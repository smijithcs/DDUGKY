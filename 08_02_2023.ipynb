{
 "cells": [
  {
   "cell_type": "markdown",
   "id": "3d7b258b",
   "metadata": {},
   "source": [
    "# NUMPY"
   ]
  },
  {
   "cell_type": "code",
   "execution_count": 11,
   "id": "e71c6e0c",
   "metadata": {},
   "outputs": [],
   "source": [
    "import numpy as np"
   ]
  },
  {
   "cell_type": "markdown",
   "id": "60352e9f",
   "metadata": {},
   "source": [
    "## 1D array"
   ]
  },
  {
   "cell_type": "code",
   "execution_count": 12,
   "id": "8e48021e",
   "metadata": {},
   "outputs": [],
   "source": [
    "a=np.array([10,20,30,40,50,60])"
   ]
  },
  {
   "cell_type": "code",
   "execution_count": 13,
   "id": "c9cd93a8",
   "metadata": {},
   "outputs": [
    {
     "data": {
      "text/plain": [
       "array([10, 20, 30, 40, 50, 60])"
      ]
     },
     "execution_count": 13,
     "metadata": {},
     "output_type": "execute_result"
    }
   ],
   "source": [
    "a"
   ]
  },
  {
   "cell_type": "markdown",
   "id": "0f28cbcb",
   "metadata": {},
   "source": [
    "### Attributes of arrays\n",
    "#### dtype , ndim, size, shape"
   ]
  },
  {
   "cell_type": "code",
   "execution_count": 14,
   "id": "b6232279",
   "metadata": {},
   "outputs": [
    {
     "data": {
      "text/plain": [
       "dtype('int32')"
      ]
     },
     "execution_count": 14,
     "metadata": {},
     "output_type": "execute_result"
    }
   ],
   "source": [
    "a.dtype"
   ]
  },
  {
   "cell_type": "code",
   "execution_count": 15,
   "id": "5a998e7d",
   "metadata": {},
   "outputs": [
    {
     "data": {
      "text/plain": [
       "(6,)"
      ]
     },
     "execution_count": 15,
     "metadata": {},
     "output_type": "execute_result"
    }
   ],
   "source": [
    "a.shape"
   ]
  },
  {
   "cell_type": "code",
   "execution_count": 16,
   "id": "4d816b45",
   "metadata": {},
   "outputs": [
    {
     "data": {
      "text/plain": [
       "1"
      ]
     },
     "execution_count": 16,
     "metadata": {},
     "output_type": "execute_result"
    }
   ],
   "source": [
    "a.ndim"
   ]
  },
  {
   "cell_type": "code",
   "execution_count": 17,
   "id": "0d9c8631",
   "metadata": {},
   "outputs": [
    {
     "data": {
      "text/plain": [
       "6"
      ]
     },
     "execution_count": 17,
     "metadata": {},
     "output_type": "execute_result"
    }
   ],
   "source": [
    "a.size"
   ]
  },
  {
   "cell_type": "code",
   "execution_count": 18,
   "id": "c95342f2",
   "metadata": {},
   "outputs": [
    {
     "data": {
      "text/plain": [
       "10"
      ]
     },
     "execution_count": 18,
     "metadata": {},
     "output_type": "execute_result"
    }
   ],
   "source": [
    "a[0]"
   ]
  },
  {
   "cell_type": "code",
   "execution_count": 19,
   "id": "33a4dc45",
   "metadata": {},
   "outputs": [
    {
     "data": {
      "text/plain": [
       "50"
      ]
     },
     "execution_count": 19,
     "metadata": {},
     "output_type": "execute_result"
    }
   ],
   "source": [
    "a[4]"
   ]
  },
  {
   "cell_type": "markdown",
   "id": "1797b185",
   "metadata": {},
   "source": [
    "## Multi dimensional array"
   ]
  },
  {
   "cell_type": "code",
   "execution_count": 20,
   "id": "68263d6c",
   "metadata": {},
   "outputs": [],
   "source": [
    "a_2d=np.array([[10,20,30],[22,44,66]])"
   ]
  },
  {
   "cell_type": "code",
   "execution_count": 21,
   "id": "c3f8800c",
   "metadata": {},
   "outputs": [
    {
     "data": {
      "text/plain": [
       "array([[10, 20, 30],\n",
       "       [22, 44, 66]])"
      ]
     },
     "execution_count": 21,
     "metadata": {},
     "output_type": "execute_result"
    }
   ],
   "source": [
    "a_2d"
   ]
  },
  {
   "cell_type": "code",
   "execution_count": 22,
   "id": "9a1e242a",
   "metadata": {},
   "outputs": [
    {
     "data": {
      "text/plain": [
       "dtype('int32')"
      ]
     },
     "execution_count": 22,
     "metadata": {},
     "output_type": "execute_result"
    }
   ],
   "source": [
    "a_2d.dtype"
   ]
  },
  {
   "cell_type": "code",
   "execution_count": 23,
   "id": "cc05f646",
   "metadata": {},
   "outputs": [
    {
     "data": {
      "text/plain": [
       "(2, 3)"
      ]
     },
     "execution_count": 23,
     "metadata": {},
     "output_type": "execute_result"
    }
   ],
   "source": [
    "a_2d.shape"
   ]
  },
  {
   "cell_type": "code",
   "execution_count": 24,
   "id": "32af1fd3",
   "metadata": {},
   "outputs": [
    {
     "data": {
      "text/plain": [
       "2"
      ]
     },
     "execution_count": 24,
     "metadata": {},
     "output_type": "execute_result"
    }
   ],
   "source": [
    "a_2d.ndim"
   ]
  },
  {
   "cell_type": "code",
   "execution_count": 25,
   "id": "bc57d700",
   "metadata": {},
   "outputs": [
    {
     "data": {
      "text/plain": [
       "6"
      ]
     },
     "execution_count": 25,
     "metadata": {},
     "output_type": "execute_result"
    }
   ],
   "source": [
    "a_2d.size"
   ]
  },
  {
   "cell_type": "code",
   "execution_count": 26,
   "id": "694a2896",
   "metadata": {},
   "outputs": [
    {
     "data": {
      "text/plain": [
       "array([10, 20, 30])"
      ]
     },
     "execution_count": 26,
     "metadata": {},
     "output_type": "execute_result"
    }
   ],
   "source": [
    "a_2d[0]"
   ]
  },
  {
   "cell_type": "code",
   "execution_count": 27,
   "id": "178d92e5",
   "metadata": {},
   "outputs": [
    {
     "data": {
      "text/plain": [
       "20"
      ]
     },
     "execution_count": 27,
     "metadata": {},
     "output_type": "execute_result"
    }
   ],
   "source": [
    "a_2d[0,1]"
   ]
  },
  {
   "cell_type": "code",
   "execution_count": 28,
   "id": "3085cf94",
   "metadata": {},
   "outputs": [
    {
     "data": {
      "text/plain": [
       "20"
      ]
     },
     "execution_count": 28,
     "metadata": {},
     "output_type": "execute_result"
    }
   ],
   "source": [
    "a_2d[0][1]"
   ]
  },
  {
   "cell_type": "markdown",
   "id": "43ae062d",
   "metadata": {},
   "source": [
    "## Another type of multi dimensional arrays"
   ]
  },
  {
   "cell_type": "code",
   "execution_count": 29,
   "id": "26e8097a",
   "metadata": {},
   "outputs": [],
   "source": [
    "b=np.array([[[1,2,3,4]]])"
   ]
  },
  {
   "cell_type": "code",
   "execution_count": 30,
   "id": "5e7a5481",
   "metadata": {},
   "outputs": [
    {
     "data": {
      "text/plain": [
       "array([[[1, 2, 3, 4]]])"
      ]
     },
     "execution_count": 30,
     "metadata": {},
     "output_type": "execute_result"
    }
   ],
   "source": [
    "b"
   ]
  },
  {
   "cell_type": "code",
   "execution_count": 31,
   "id": "931b3c70",
   "metadata": {},
   "outputs": [
    {
     "data": {
      "text/plain": [
       "(1, 1, 4)"
      ]
     },
     "execution_count": 31,
     "metadata": {},
     "output_type": "execute_result"
    }
   ],
   "source": [
    "b.shape"
   ]
  },
  {
   "cell_type": "code",
   "execution_count": 32,
   "id": "0be84cde",
   "metadata": {},
   "outputs": [
    {
     "data": {
      "text/plain": [
       "3"
      ]
     },
     "execution_count": 32,
     "metadata": {},
     "output_type": "execute_result"
    }
   ],
   "source": [
    "b.ndim"
   ]
  },
  {
   "cell_type": "code",
   "execution_count": 33,
   "id": "2cc2ed8e",
   "metadata": {},
   "outputs": [
    {
     "data": {
      "text/plain": [
       "4"
      ]
     },
     "execution_count": 33,
     "metadata": {},
     "output_type": "execute_result"
    }
   ],
   "source": [
    "b.size"
   ]
  },
  {
   "cell_type": "markdown",
   "id": "fd750dc5",
   "metadata": {},
   "source": [
    "### First element in first row"
   ]
  },
  {
   "cell_type": "code",
   "execution_count": 34,
   "id": "66057de1",
   "metadata": {},
   "outputs": [
    {
     "data": {
      "text/plain": [
       "4"
      ]
     },
     "execution_count": 34,
     "metadata": {},
     "output_type": "execute_result"
    }
   ],
   "source": [
    "b[0,0,3]"
   ]
  },
  {
   "cell_type": "code",
   "execution_count": null,
   "id": "9b94c296",
   "metadata": {},
   "outputs": [],
   "source": []
  },
  {
   "cell_type": "code",
   "execution_count": 35,
   "id": "01f308a2",
   "metadata": {},
   "outputs": [],
   "source": [
    "a_2d=np.array([[10,20,30],[22,44,66]],dtype= float)"
   ]
  },
  {
   "cell_type": "code",
   "execution_count": 36,
   "id": "25212eae",
   "metadata": {},
   "outputs": [
    {
     "data": {
      "text/plain": [
       "array([[10., 20., 30.],\n",
       "       [22., 44., 66.]])"
      ]
     },
     "execution_count": 36,
     "metadata": {},
     "output_type": "execute_result"
    }
   ],
   "source": [
    "a_2d"
   ]
  },
  {
   "cell_type": "code",
   "execution_count": 45,
   "id": "042015d4",
   "metadata": {},
   "outputs": [
    {
     "data": {
      "text/plain": [
       "array([[[ 11.,  22.,  33.,  44.,  55.],\n",
       "        [131., 212., 323.,  42., 525.],\n",
       "        [101., 202., 303., 404., 505.]],\n",
       "\n",
       "       [[110., 220., 330., 440., 505.],\n",
       "        [ 31.,  12.,  33.,  42.,  25.],\n",
       "        [ 11., 202., 303., 404., 505.]],\n",
       "\n",
       "       [[181., 282., 338., 448., 558.],\n",
       "        [ 31., 212.,  32.,  42.,  52.],\n",
       "        [701., 802., 303.,  44.,  50.]]])"
      ]
     },
     "execution_count": 45,
     "metadata": {},
     "output_type": "execute_result"
    }
   ],
   "source": [
    "a_big=np.array([[[11,22,33,44,55],[131,212,323,42,525],[101,202,303,404,505]],[[110,220,330,440,505],[31,12,33,42,25],[11,202,303,404,505]],[[181,282,338,448,558],[31,212,32,42,52],[701,802,303,44,50]]],dtype=float)\n",
    "a_big"
   ]
  },
  {
   "cell_type": "code",
   "execution_count": 54,
   "id": "5f5d665d",
   "metadata": {},
   "outputs": [
    {
     "data": {
      "text/plain": [
       "(3, 3, 5)"
      ]
     },
     "execution_count": 54,
     "metadata": {},
     "output_type": "execute_result"
    }
   ],
   "source": [
    "a_big.shape"
   ]
  },
  {
   "cell_type": "code",
   "execution_count": 47,
   "id": "5ec97a04",
   "metadata": {},
   "outputs": [
    {
     "data": {
      "text/plain": [
       "3"
      ]
     },
     "execution_count": 47,
     "metadata": {},
     "output_type": "execute_result"
    }
   ],
   "source": [
    "a_big.ndim"
   ]
  },
  {
   "cell_type": "code",
   "execution_count": 48,
   "id": "7230ffed",
   "metadata": {},
   "outputs": [
    {
     "data": {
      "text/plain": [
       "45"
      ]
     },
     "execution_count": 48,
     "metadata": {},
     "output_type": "execute_result"
    }
   ],
   "source": [
    "a_big.size"
   ]
  },
  {
   "cell_type": "code",
   "execution_count": 50,
   "id": "7ac32fc5",
   "metadata": {},
   "outputs": [
    {
     "data": {
      "text/plain": [
       "32.0"
      ]
     },
     "execution_count": 50,
     "metadata": {},
     "output_type": "execute_result"
    }
   ],
   "source": [
    "a_big[2,1,2]"
   ]
  },
  {
   "cell_type": "code",
   "execution_count": 51,
   "id": "34dc3f2c",
   "metadata": {},
   "outputs": [
    {
     "data": {
      "text/plain": [
       "array([701., 802., 303.,  44.,  50.])"
      ]
     },
     "execution_count": 51,
     "metadata": {},
     "output_type": "execute_result"
    }
   ],
   "source": [
    "a_big[2][2]"
   ]
  },
  {
   "cell_type": "code",
   "execution_count": 52,
   "id": "874d2e38",
   "metadata": {},
   "outputs": [],
   "source": [
    "a_full=np.full((3,5,4),7)"
   ]
  },
  {
   "cell_type": "code",
   "execution_count": 53,
   "id": "c8b49a08",
   "metadata": {},
   "outputs": [
    {
     "data": {
      "text/plain": [
       "array([[[7, 7, 7, 7],\n",
       "        [7, 7, 7, 7],\n",
       "        [7, 7, 7, 7],\n",
       "        [7, 7, 7, 7],\n",
       "        [7, 7, 7, 7]],\n",
       "\n",
       "       [[7, 7, 7, 7],\n",
       "        [7, 7, 7, 7],\n",
       "        [7, 7, 7, 7],\n",
       "        [7, 7, 7, 7],\n",
       "        [7, 7, 7, 7]],\n",
       "\n",
       "       [[7, 7, 7, 7],\n",
       "        [7, 7, 7, 7],\n",
       "        [7, 7, 7, 7],\n",
       "        [7, 7, 7, 7],\n",
       "        [7, 7, 7, 7]]])"
      ]
     },
     "execution_count": 53,
     "metadata": {},
     "output_type": "execute_result"
    }
   ],
   "source": [
    "a_full"
   ]
  },
  {
   "cell_type": "code",
   "execution_count": 55,
   "id": "9a4705c0",
   "metadata": {},
   "outputs": [
    {
     "data": {
      "text/plain": [
       "3"
      ]
     },
     "execution_count": 55,
     "metadata": {},
     "output_type": "execute_result"
    }
   ],
   "source": [
    "a_full.ndim"
   ]
  },
  {
   "cell_type": "markdown",
   "id": "238b8d7b",
   "metadata": {},
   "source": [
    "## Zeros and ones\n",
    "### For the cases that we want arrays full of zeros or ones, we even have specific function"
   ]
  },
  {
   "cell_type": "code",
   "execution_count": 57,
   "id": "c1332d16",
   "metadata": {},
   "outputs": [
    {
     "data": {
      "text/plain": [
       "array([[0., 0., 0.],\n",
       "       [0., 0., 0.],\n",
       "       [0., 0., 0.]])"
      ]
     },
     "execution_count": 57,
     "metadata": {},
     "output_type": "execute_result"
    }
   ],
   "source": [
    "a_zeros=np.zeros((3,3))\n",
    "a_zeros"
   ]
  },
  {
   "cell_type": "code",
   "execution_count": 58,
   "id": "aaaf3488",
   "metadata": {},
   "outputs": [
    {
     "data": {
      "text/plain": [
       "array([[[1., 1., 1., 1.],\n",
       "        [1., 1., 1., 1.],\n",
       "        [1., 1., 1., 1.]],\n",
       "\n",
       "       [[1., 1., 1., 1.],\n",
       "        [1., 1., 1., 1.],\n",
       "        [1., 1., 1., 1.]]])"
      ]
     },
     "execution_count": 58,
     "metadata": {},
     "output_type": "execute_result"
    }
   ],
   "source": [
    "b_ones=np.ones((2,3,4))\n",
    "b_ones"
   ]
  },
  {
   "cell_type": "code",
   "execution_count": 59,
   "id": "35108825",
   "metadata": {},
   "outputs": [
    {
     "data": {
      "text/plain": [
       "3"
      ]
     },
     "execution_count": 59,
     "metadata": {},
     "output_type": "execute_result"
    }
   ],
   "source": [
    "b_ones.ndim"
   ]
  },
  {
   "cell_type": "code",
   "execution_count": 60,
   "id": "67c7ea21",
   "metadata": {},
   "outputs": [
    {
     "data": {
      "text/plain": [
       "array([[6.23042070e-307, 4.67296746e-307, 1.69121096e-306,\n",
       "        6.23043429e-307],\n",
       "       [2.22522597e-306, 1.33511969e-306, 1.37962320e-306,\n",
       "        9.34604358e-307],\n",
       "       [9.79101082e-307, 1.78020576e-306, 1.69119873e-306,\n",
       "        2.22522868e-306],\n",
       "       [1.24611809e-306, 8.06632139e-308, 1.60221208e-306,\n",
       "        2.29178686e-312]])"
      ]
     },
     "execution_count": 60,
     "metadata": {},
     "output_type": "execute_result"
    }
   ],
   "source": [
    "e=np.empty((4,4))\n",
    "e"
   ]
  },
  {
   "cell_type": "code",
   "execution_count": 61,
   "id": "3cf6a996",
   "metadata": {},
   "outputs": [
    {
     "data": {
      "text/plain": [
       "array([[0.64283941, 0.95480853],\n",
       "       [0.33804897, 0.07062901]])"
      ]
     },
     "execution_count": 61,
     "metadata": {},
     "output_type": "execute_result"
    }
   ],
   "source": [
    "c=np.random.random((2,2))\n",
    "c"
   ]
  },
  {
   "cell_type": "markdown",
   "id": "b20886af",
   "metadata": {},
   "source": [
    "## Ranges\n",
    "### Instead of just filling arrays with the same values, we can fill create sequences of values by specifying the boundaries. For this, we can use two different functions, namely arange and linspace. "
   ]
  },
  {
   "cell_type": "code",
   "execution_count": 67,
   "id": "888cc89c",
   "metadata": {},
   "outputs": [
    {
     "data": {
      "text/plain": [
       "array([0, 1, 2, 3, 4, 5, 6, 7, 8, 9])"
      ]
     },
     "execution_count": 67,
     "metadata": {},
     "output_type": "execute_result"
    }
   ],
   "source": [
    "a_arange=np.arange(10)\n",
    "a_arange"
   ]
  },
  {
   "cell_type": "code",
   "execution_count": 68,
   "id": "72e9795c",
   "metadata": {},
   "outputs": [
    {
     "data": {
      "text/plain": [
       "array([10, 15, 20, 25, 30, 35, 40, 45])"
      ]
     },
     "execution_count": 68,
     "metadata": {},
     "output_type": "execute_result"
    }
   ],
   "source": [
    "b_arange=np.arange(10,50,5)\n",
    "b_arange"
   ]
  },
  {
   "cell_type": "markdown",
   "id": "81624940",
   "metadata": {},
   "source": [
    "## linspace \n",
    "## By using linspace we also create a list from a minimum value to a maximum value. But instead of specifying the step-size, we specify the amount of values that we want to have in our list. They will all be spread evenly and have the same distance to their neighbors. \n"
   ]
  },
  {
   "cell_type": "code",
   "execution_count": 69,
   "id": "bed8acf7",
   "metadata": {},
   "outputs": [
    {
     "data": {
      "text/plain": [
       "array([ 0., 50.])"
      ]
     },
     "execution_count": 69,
     "metadata": {},
     "output_type": "execute_result"
    }
   ],
   "source": [
    "c_linspace=np.linspace(0,50,2)\n",
    "c_linspace"
   ]
  },
  {
   "cell_type": "code",
   "execution_count": 70,
   "id": "0f8f5c4f",
   "metadata": {},
   "outputs": [
    {
     "data": {
      "text/plain": [
       "1"
      ]
     },
     "execution_count": 70,
     "metadata": {},
     "output_type": "execute_result"
    }
   ],
   "source": [
    "c_linspace.ndim"
   ]
  },
  {
   "cell_type": "code",
   "execution_count": 71,
   "id": "677a9faa",
   "metadata": {},
   "outputs": [
    {
     "data": {
      "text/plain": [
       "array([ 0.        ,  1.72413793,  3.44827586,  5.17241379,  6.89655172,\n",
       "        8.62068966, 10.34482759, 12.06896552, 13.79310345, 15.51724138,\n",
       "       17.24137931, 18.96551724, 20.68965517, 22.4137931 , 24.13793103,\n",
       "       25.86206897, 27.5862069 , 29.31034483, 31.03448276, 32.75862069,\n",
       "       34.48275862, 36.20689655, 37.93103448, 39.65517241, 41.37931034,\n",
       "       43.10344828, 44.82758621, 46.55172414, 48.27586207, 50.        ])"
      ]
     },
     "execution_count": 71,
     "metadata": {},
     "output_type": "execute_result"
    }
   ],
   "source": [
    "w_linspace=np.linspace(0,50,30)\n",
    "w_linspace"
   ]
  },
  {
   "cell_type": "code",
   "execution_count": 72,
   "id": "b8542bf3",
   "metadata": {},
   "outputs": [
    {
     "data": {
      "text/plain": [
       "30"
      ]
     },
     "execution_count": 72,
     "metadata": {},
     "output_type": "execute_result"
    }
   ],
   "source": [
    "w_linspace.size"
   ]
  },
  {
   "cell_type": "code",
   "execution_count": 73,
   "id": "7128dd8d",
   "metadata": {},
   "outputs": [
    {
     "data": {
      "text/plain": [
       "array([ 0,  2,  4,  6,  8, 10, 12, 14, 16, 18, 20, 22, 25, 27, 29, 31, 33,\n",
       "       35, 37, 39, 41, 43, 45, 47, 50])"
      ]
     },
     "execution_count": 73,
     "metadata": {},
     "output_type": "execute_result"
    }
   ],
   "source": [
    "w_linspace2=np.linspace(0,50,25,dtype=int)\n",
    "w_linspace2"
   ]
  },
  {
   "cell_type": "markdown",
   "id": "2e9f5ade",
   "metadata": {},
   "source": [
    "## Create some arrays and apply all the functions "
   ]
  },
  {
   "cell_type": "code",
   "execution_count": 74,
   "id": "499f9fcf",
   "metadata": {},
   "outputs": [
    {
     "data": {
      "text/plain": [
       "25.0"
      ]
     },
     "execution_count": 74,
     "metadata": {},
     "output_type": "execute_result"
    }
   ],
   "source": [
    "np.median(w_linspace2)"
   ]
  },
  {
   "cell_type": "code",
   "execution_count": 75,
   "id": "bb790981",
   "metadata": {},
   "outputs": [
    {
     "data": {
      "text/plain": [
       "614"
      ]
     },
     "execution_count": 75,
     "metadata": {},
     "output_type": "execute_result"
    }
   ],
   "source": [
    "np.sum(w_linspace2)"
   ]
  },
  {
   "cell_type": "code",
   "execution_count": 76,
   "id": "84d2af33",
   "metadata": {},
   "outputs": [
    {
     "data": {
      "text/plain": [
       "array([0.        , 1.41421356, 2.        , 2.44948974, 2.82842712,\n",
       "       3.16227766, 3.46410162, 3.74165739, 4.        , 4.24264069,\n",
       "       4.47213595, 4.69041576, 5.        , 5.19615242, 5.38516481,\n",
       "       5.56776436, 5.74456265, 5.91607978, 6.08276253, 6.244998  ,\n",
       "       6.40312424, 6.55743852, 6.70820393, 6.8556546 , 7.07106781])"
      ]
     },
     "execution_count": 76,
     "metadata": {},
     "output_type": "execute_result"
    }
   ],
   "source": [
    "np.sqrt(w_linspace2)"
   ]
  },
  {
   "cell_type": "code",
   "execution_count": 77,
   "id": "619be956",
   "metadata": {},
   "outputs": [
    {
     "data": {
      "text/plain": [
       "14.924020905908701"
      ]
     },
     "execution_count": 77,
     "metadata": {},
     "output_type": "execute_result"
    }
   ],
   "source": [
    "np.std(w_linspace2)"
   ]
  },
  {
   "cell_type": "code",
   "execution_count": 78,
   "id": "c215bbf6",
   "metadata": {},
   "outputs": [
    {
     "data": {
      "text/plain": [
       "array([ 1.        , -0.41614684, -0.65364362,  0.96017029, -0.14550003,\n",
       "       -0.83907153,  0.84385396,  0.13673722, -0.95765948,  0.66031671,\n",
       "        0.40808206, -0.99996083,  0.99120281, -0.29213881, -0.74805753,\n",
       "        0.91474236, -0.01327675, -0.90369221,  0.76541405,  0.26664293,\n",
       "       -0.98733928,  0.5551133 ,  0.52532199, -0.99233547,  0.96496603])"
      ]
     },
     "execution_count": 78,
     "metadata": {},
     "output_type": "execute_result"
    }
   ],
   "source": [
    "np.cos(w_linspace2)"
   ]
  },
  {
   "cell_type": "code",
   "execution_count": 79,
   "id": "7cfa26cb",
   "metadata": {},
   "outputs": [
    {
     "data": {
      "text/plain": [
       "array([ 0.        ,  0.90929743, -0.7568025 , -0.2794155 ,  0.98935825,\n",
       "       -0.54402111, -0.53657292,  0.99060736, -0.28790332, -0.75098725,\n",
       "        0.91294525, -0.00885131, -0.13235175,  0.95637593, -0.66363388,\n",
       "       -0.40403765,  0.99991186, -0.42818267, -0.64353813,  0.96379539,\n",
       "       -0.15862267, -0.83177474,  0.85090352,  0.12357312, -0.26237485])"
      ]
     },
     "execution_count": 79,
     "metadata": {},
     "output_type": "execute_result"
    }
   ],
   "source": [
    "np.sin(w_linspace2)"
   ]
  },
  {
   "cell_type": "code",
   "execution_count": 80,
   "id": "a96498cb",
   "metadata": {},
   "outputs": [
    {
     "data": {
      "text/plain": [
       "array([ 0.00000000e+00, -2.18503986e+00,  1.15782128e+00, -2.91006191e-01,\n",
       "       -6.79971146e+00,  6.48360827e-01, -6.35859929e-01,  7.24460662e+00,\n",
       "        3.00632242e-01, -1.13731371e+00,  2.23716094e+00,  8.85165604e-03,\n",
       "       -1.33526407e-01, -3.27370380e+00,  8.87142844e-01, -4.41695568e-01,\n",
       "       -7.53130148e+01,  4.73814720e-01, -8.40771255e-01,  3.61455441e+00,\n",
       "        1.60656699e-01, -1.49838734e+00,  1.61977519e+00, -1.24527568e-01,\n",
       "       -2.71900612e-01])"
      ]
     },
     "execution_count": 80,
     "metadata": {},
     "output_type": "execute_result"
    }
   ],
   "source": [
    "np.tan(w_linspace2)"
   ]
  },
  {
   "cell_type": "code",
   "execution_count": null,
   "id": "a4a04155",
   "metadata": {},
   "outputs": [],
   "source": []
  }
 ],
 "metadata": {
  "kernelspec": {
   "display_name": "Python 3 (ipykernel)",
   "language": "python",
   "name": "python3"
  },
  "language_info": {
   "codemirror_mode": {
    "name": "ipython",
    "version": 3
   },
   "file_extension": ".py",
   "mimetype": "text/x-python",
   "name": "python",
   "nbconvert_exporter": "python",
   "pygments_lexer": "ipython3",
   "version": "3.9.13"
  }
 },
 "nbformat": 4,
 "nbformat_minor": 5
}
